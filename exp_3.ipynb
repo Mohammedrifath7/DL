{
  "nbformat": 4,
  "nbformat_minor": 0,
  "metadata": {
    "colab": {
      "provenance": []
    },
    "kernelspec": {
      "name": "python3",
      "display_name": "Python 3"
    },
    "language_info": {
      "name": "python"
    }
  },
  "cells": [
    {
      "cell_type": "code",
      "execution_count": null,
      "metadata": {
        "id": "RuaVFOSSbqNY"
      },
      "outputs": [],
      "source": [
        "import numpy as np\n",
        "# Generate a simple binary dataset for movie recommendations\n",
        "num_users = 10\n",
        "num_movies = 5\n",
        "ratings_data = np.random.randint(0, 2, size=(num_users, num_movies))\n",
        "print(ratings_data.shape)\n",
        "print(ratings_data)\n",
        "\n",
        "# RBM implementation\n",
        "def sigmoid(x):\n",
        "  return 1 / (1 + np.exp(-x))\n",
        "# Initialize parameters\n",
        "num_hidden_units = 3\n",
        "weights = np.random.normal(0, 0.1, (num_movies, num_hidden_units))\n",
        "print(weights.shape)\n",
        "print(weights)\n",
        "\n",
        "visible_bias = np.zeros(num_movies)\n",
        "print(visible_bias.shape)\n",
        "hidden_bias = np.zeros(num_hidden_units)\n",
        "print(hidden_bias.shape)\n",
        "learning_rate = 0.1\n",
        "\n",
        "num_epochs = 1000\n",
        "for epoch in range(num_epochs):\n",
        "for user_ratings in ratings_data:\n",
        "# Positive phase\n",
        "hidden_probabilities = sigmoid(np.dot(user_ratings, weights) + hidden_bias)\n",
        "\n",
        "positive_associations = np.outer(user_ratings, hidden_probabilities)\n",
        "# Reconstruction\n",
        "visible_probabilities = sigmoid(np.dot(hidden_probabilities, weights.T) + visible_\n",
        "# Negative phase\n",
        "hidden_probabilities_recon = sigmoid(np.dot(visible_probabilities, weights) + hidd\n",
        "negative_associations = np.outer(visible_probabilities, hidden_probabilities_recon\n",
        "# Update weights\n",
        "weights += learning_rate * (positive_associations - negative_associations)\n",
        "visible_bias += learning_rate * (user_ratings - visible_probabilities)\n",
        "hidden_bias += learning_rate * (hidden_probabilities - hidden_probabilities_recon)\n",
        "\n",
        "\n",
        "# Predict ratings for a user\n",
        "user_id = 5\n",
        "user_ratings = ratings_data[user_id]\n",
        "print(user_ratings)\n",
        "hidden_probabilities = sigmoid(np.dot(user_ratings, weights) + hidden_bias)\n",
        "visible_probabilities = sigmoid(np.dot(hidden_probabilities, weights.T) + visible_bias)\n",
        "predicted_ratings = visible_probabilities\n",
        "print(\"Predicted ratings for user\", user_id, \":\", predicted_ratings)"
      ]
    }
  ]
}