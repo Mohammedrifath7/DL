{
 "cells": [
  {
   "cell_type": "code",
   "execution_count": 58,
   "id": "fd2b5c1e",
   "metadata": {},
   "outputs": [],
   "source": [
    "from transformers import BlipProcessor,BlipForConditionalGeneration\n",
    "from PIL import Image\n",
    "from io import BytesIO\n",
    "import ipywidgets as widgets\n",
    "from IPython.display import display"
   ]
  },
  {
   "cell_type": "code",
   "execution_count": 59,
   "id": "e66a158a",
   "metadata": {},
   "outputs": [
    {
     "name": "stderr",
     "output_type": "stream",
     "text": [
      "C:\\Users\\J.SHIMRIN SULTHANA\\anaconda3\\lib\\site-packages\\huggingface_hub\\file_download.py:1142: FutureWarning: `resume_download` is deprecated and will be removed in version 1.0.0. Downloads always resume when possible. If you want to force a new download, use `force_download=True`.\n",
      "  warnings.warn(\n"
     ]
    }
   ],
   "source": [
    "processor = BlipProcessor.from_pretrained(\"Salesforce/blip-image-captioning-base\")\n",
    "model = BlipForConditionalGeneration.from_pretrained(\"Salesforce/blip-image-captioning-base\")"
   ]
  },
  {
   "cell_type": "code",
   "execution_count": 60,
   "id": "1c1bf4ea",
   "metadata": {},
   "outputs": [
    {
     "data": {
      "application/vnd.jupyter.widget-view+json": {
       "model_id": "78a35c5dcd7d441fb7a36379138d29f1",
       "version_major": 2,
       "version_minor": 0
      },
      "text/plain": [
       "FileUpload(value={}, accept='image/*', description='Upload')"
      ]
     },
     "metadata": {},
     "output_type": "display_data"
    }
   ],
   "source": [
    "uploader = widgets.FileUpload(accept=\"image/*\",multiple=False)\n",
    "display(uploader)"
   ]
  },
  {
   "cell_type": "code",
   "execution_count": 61,
   "id": "d0d9b42b",
   "metadata": {},
   "outputs": [],
   "source": [
    "def uploading_image(change):\n",
    "    if uploader.value:\n",
    "        uploaded_data = list(uploader.value.values())[0]\n",
    "        image_data = BytesIO(uploaded_data['content'])\n",
    "        image = Image.open(image_data)\n",
    "        image.show()\n",
    "        \n",
    "        \n",
    "        inputs = processor(image,return_tensors=\"pt\")\n",
    "        outputs = model.generate(**inputs)\n",
    "        generate_caption = processor.decode(outputs[0],skip_special_tokens=True)\n",
    "        print(\"Generated Caption : \",generate_caption)"
   ]
  },
  {
   "cell_type": "code",
   "execution_count": 63,
   "id": "7da8bb73",
   "metadata": {},
   "outputs": [
    {
     "name": "stderr",
     "output_type": "stream",
     "text": [
      "C:\\Users\\J.SHIMRIN SULTHANA\\anaconda3\\lib\\site-packages\\transformers\\generation\\utils.py:1178: UserWarning: Using the model-agnostic default `max_length` (=20) to control the generation length. We recommend setting `max_new_tokens` to control the maximum length of the generation.\n",
      "  warnings.warn(\n"
     ]
    },
    {
     "name": "stdout",
     "output_type": "stream",
     "text": [
      "Generated Caption :  a group of people sitting around a table\n"
     ]
    }
   ],
   "source": [
    "uploading_image({'new' :uploader.value})"
   ]
  },
  {
   "cell_type": "code",
   "execution_count": 22,
   "id": "e2f377bf",
   "metadata": {},
   "outputs": [],
   "source": []
  },
  {
   "cell_type": "code",
   "execution_count": null,
   "id": "5c713e7b",
   "metadata": {},
   "outputs": [],
   "source": []
  },
  {
   "cell_type": "code",
   "execution_count": null,
   "id": "76ef051a",
   "metadata": {},
   "outputs": [],
   "source": []
  }
 ],
 "metadata": {
  "kernelspec": {
   "display_name": "Python 3 (ipykernel)",
   "language": "python",
   "name": "python3"
  },
  "language_info": {
   "codemirror_mode": {
    "name": "ipython",
    "version": 3
   },
   "file_extension": ".py",
   "mimetype": "text/x-python",
   "name": "python",
   "nbconvert_exporter": "python",
   "pygments_lexer": "ipython3",
   "version": "3.9.12"
  }
 },
 "nbformat": 4,
 "nbformat_minor": 5
}
